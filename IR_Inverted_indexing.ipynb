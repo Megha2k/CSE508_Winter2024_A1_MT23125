{
  "nbformat": 4,
  "nbformat_minor": 0,
  "metadata": {
    "colab": {
      "provenance": [],
      "authorship_tag": "ABX9TyMFCgdG4+aMl6dGA/GW4AxX"
    },
    "kernelspec": {
      "name": "python3",
      "display_name": "Python 3"
    },
    "language_info": {
      "name": "python"
    }
  },
  "cells": [
    {
      "cell_type": "markdown",
      "source": [
        "LOAD DATASET, CREATE FOLDERS"
      ],
      "metadata": {
        "id": "PYYeniTBFy7M"
      }
    },
    {
      "cell_type": "code",
      "execution_count": 1,
      "metadata": {
        "colab": {
          "base_uri": "https://localhost:8080/"
        },
        "id": "zI1yEXqndVos",
        "outputId": "5313bab2-3d38-4d68-cc92-6d355e48b276"
      },
      "outputs": [
        {
          "output_type": "stream",
          "name": "stdout",
          "text": [
            "Mounted at /content/drive\n",
            "{1: 'file1.txt', 2: 'file2.txt', 3: 'file3.txt', 4: 'file4.txt', 5: 'file5.txt', 6: 'file6.txt', 7: 'file7.txt', 8: 'file8.txt', 9: 'file9.txt', 10: 'file10.txt', 11: 'file11.txt', 12: 'file12.txt', 13: 'file13.txt', 14: 'file14.txt', 15: 'file15.txt', 16: 'file16.txt', 17: 'file17.txt', 18: 'file18.txt', 19: 'file19.txt', 20: 'file20.txt', 21: 'file21.txt', 22: 'file22.txt', 23: 'file23.txt', 24: 'file24.txt', 25: 'file25.txt', 26: 'file26.txt', 27: 'file27.txt', 28: 'file28.txt', 29: 'file29.txt', 30: 'file30.txt', 31: 'file31.txt', 32: 'file32.txt', 33: 'file33.txt', 34: 'file34.txt', 35: 'file35.txt', 36: 'file36.txt', 37: 'file37.txt', 38: 'file38.txt', 39: 'file39.txt', 40: 'file40.txt', 41: 'file41.txt', 42: 'file42.txt', 43: 'file43.txt', 44: 'file44.txt', 45: 'file45.txt', 46: 'file46.txt', 47: 'file47.txt', 48: 'file48.txt', 49: 'file49.txt', 50: 'file50.txt', 51: 'file51.txt', 52: 'file52.txt', 53: 'file53.txt', 54: 'file54.txt', 55: 'file55.txt', 56: 'file56.txt', 57: 'file57.txt', 58: 'file58.txt', 59: 'file59.txt', 60: 'file60.txt', 61: 'file61.txt', 62: 'file62.txt', 63: 'file63.txt', 64: 'file64.txt', 65: 'file65.txt', 66: 'file66.txt', 67: 'file67.txt', 68: 'file68.txt', 69: 'file69.txt', 70: 'file70.txt', 71: 'file71.txt', 72: 'file72.txt', 73: 'file73.txt', 74: 'file74.txt', 75: 'file75.txt', 76: 'file76.txt', 77: 'file77.txt', 78: 'file78.txt', 79: 'file79.txt', 80: 'file80.txt', 81: 'file81.txt', 82: 'file82.txt', 83: 'file83.txt', 84: 'file84.txt', 85: 'file85.txt', 86: 'file86.txt', 87: 'file87.txt', 88: 'file88.txt', 89: 'file89.txt', 90: 'file90.txt', 91: 'file91.txt', 92: 'file92.txt', 93: 'file93.txt', 94: 'file94.txt', 95: 'file95.txt', 96: 'file96.txt', 97: 'file97.txt', 98: 'file98.txt', 99: 'file99.txt', 100: 'file100.txt', 101: 'file101.txt', 102: 'file102.txt', 103: 'file103.txt', 104: 'file104.txt', 105: 'file105.txt', 106: 'file106.txt', 107: 'file107.txt', 108: 'file108.txt', 109: 'file109.txt', 110: 'file110.txt', 111: 'file111.txt', 112: 'file112.txt', 113: 'file113.txt', 114: 'file114.txt', 115: 'file115.txt', 116: 'file116.txt', 117: 'file117.txt', 118: 'file118.txt', 119: 'file119.txt', 120: 'file120.txt', 121: 'file121.txt', 122: 'file122.txt', 123: 'file123.txt', 124: 'file124.txt', 125: 'file125.txt', 126: 'file126.txt', 127: 'file127.txt', 128: 'file128.txt', 129: 'file129.txt', 130: 'file130.txt', 131: 'file131.txt', 132: 'file132.txt', 133: 'file133.txt', 134: 'file134.txt', 135: 'file135.txt', 136: 'file136.txt', 137: 'file137.txt', 138: 'file138.txt', 139: 'file139.txt', 140: 'file140.txt', 141: 'file141.txt', 142: 'file142.txt', 143: 'file143.txt', 144: 'file144.txt', 145: 'file145.txt', 146: 'file146.txt', 147: 'file147.txt', 148: 'file148.txt', 149: 'file149.txt', 150: 'file150.txt', 151: 'file151.txt', 152: 'file152.txt', 153: 'file153.txt', 154: 'file154.txt', 155: 'file155.txt', 156: 'file156.txt', 157: 'file157.txt', 158: 'file158.txt', 159: 'file159.txt', 160: 'file160.txt', 161: 'file161.txt', 162: 'file162.txt', 163: 'file163.txt', 164: 'file164.txt', 165: 'file165.txt', 166: 'file166.txt', 167: 'file167.txt', 168: 'file168.txt', 169: 'file169.txt', 170: 'file170.txt', 171: 'file171.txt', 172: 'file172.txt', 173: 'file173.txt', 174: 'file174.txt', 175: 'file175.txt', 176: 'file176.txt', 177: 'file177.txt', 178: 'file178.txt', 179: 'file179.txt', 180: 'file180.txt', 181: 'file181.txt', 182: 'file182.txt', 183: 'file183.txt', 184: 'file184.txt', 185: 'file185.txt', 186: 'file186.txt', 187: 'file187.txt', 188: 'file188.txt', 189: 'file189.txt', 190: 'file190.txt', 191: 'file191.txt', 192: 'file192.txt', 193: 'file193.txt', 194: 'file194.txt', 195: 'file195.txt', 196: 'file196.txt', 197: 'file197.txt', 198: 'file198.txt', 199: 'file199.txt', 200: 'file200.txt', 201: 'file201.txt', 202: 'file202.txt', 203: 'file203.txt', 204: 'file204.txt', 205: 'file205.txt', 206: 'file206.txt', 207: 'file207.txt', 208: 'file208.txt', 209: 'file209.txt', 210: 'file210.txt', 211: 'file211.txt', 212: 'file212.txt', 213: 'file213.txt', 214: 'file214.txt', 215: 'file215.txt', 216: 'file216.txt', 217: 'file217.txt', 218: 'file218.txt', 219: 'file219.txt', 220: 'file220.txt', 221: 'file221.txt', 222: 'file222.txt', 223: 'file223.txt', 224: 'file224.txt', 225: 'file225.txt', 226: 'file226.txt', 227: 'file227.txt', 228: 'file228.txt', 229: 'file229.txt', 230: 'file230.txt', 231: 'file231.txt', 232: 'file232.txt', 233: 'file233.txt', 234: 'file234.txt', 235: 'file235.txt', 236: 'file236.txt', 237: 'file237.txt', 238: 'file238.txt', 239: 'file239.txt', 240: 'file240.txt', 241: 'file241.txt', 242: 'file242.txt', 243: 'file243.txt', 244: 'file244.txt', 245: 'file245.txt', 246: 'file246.txt', 247: 'file247.txt', 248: 'file248.txt', 249: 'file249.txt', 250: 'file250.txt', 251: 'file251.txt', 252: 'file252.txt', 253: 'file253.txt', 254: 'file254.txt', 255: 'file255.txt', 256: 'file256.txt', 257: 'file257.txt', 258: 'file258.txt', 259: 'file259.txt', 260: 'file260.txt', 261: 'file261.txt', 262: 'file262.txt', 263: 'file263.txt', 264: 'file264.txt', 265: 'file265.txt', 266: 'file266.txt', 267: 'file267.txt', 268: 'file268.txt', 269: 'file269.txt', 270: 'file270.txt', 271: 'file271.txt', 272: 'file272.txt', 273: 'file273.txt', 274: 'file274.txt', 275: 'file275.txt', 276: 'file276.txt', 277: 'file277.txt', 278: 'file278.txt', 279: 'file279.txt', 280: 'file280.txt', 281: 'file281.txt', 282: 'file282.txt', 283: 'file283.txt', 284: 'file284.txt', 285: 'file285.txt', 286: 'file286.txt', 287: 'file287.txt', 288: 'file288.txt', 289: 'file289.txt', 290: 'file290.txt', 291: 'file291.txt', 292: 'file292.txt', 293: 'file293.txt', 294: 'file294.txt', 295: 'file295.txt', 296: 'file296.txt', 297: 'file297.txt', 298: 'file298.txt', 299: 'file299.txt', 300: 'file300.txt', 301: 'file301.txt', 302: 'file302.txt', 303: 'file303.txt', 304: 'file304.txt', 305: 'file305.txt', 306: 'file306.txt', 307: 'file307.txt', 308: 'file308.txt', 309: 'file309.txt', 310: 'file310.txt', 311: 'file311.txt', 312: 'file312.txt', 313: 'file313.txt', 314: 'file314.txt', 315: 'file315.txt', 316: 'file316.txt', 317: 'file317.txt', 318: 'file318.txt', 319: 'file319.txt', 320: 'file320.txt', 321: 'file321.txt', 322: 'file322.txt', 323: 'file323.txt', 324: 'file324.txt', 325: 'file325.txt', 326: 'file326.txt', 327: 'file327.txt', 328: 'file328.txt', 329: 'file329.txt', 330: 'file330.txt', 331: 'file331.txt', 332: 'file332.txt', 333: 'file333.txt', 334: 'file334.txt', 335: 'file335.txt', 336: 'file336.txt', 337: 'file337.txt', 338: 'file338.txt', 339: 'file339.txt', 340: 'file340.txt', 341: 'file341.txt', 342: 'file342.txt', 343: 'file343.txt', 344: 'file344.txt', 345: 'file345.txt', 346: 'file346.txt', 347: 'file347.txt', 348: 'file348.txt', 349: 'file349.txt', 350: 'file350.txt', 351: 'file351.txt', 352: 'file352.txt', 353: 'file353.txt', 354: 'file354.txt', 355: 'file355.txt', 356: 'file356.txt', 357: 'file357.txt', 358: 'file358.txt', 359: 'file359.txt', 360: 'file360.txt', 361: 'file361.txt', 362: 'file362.txt', 363: 'file363.txt', 364: 'file364.txt', 365: 'file365.txt', 366: 'file366.txt', 367: 'file367.txt', 368: 'file368.txt', 369: 'file369.txt', 370: 'file370.txt', 371: 'file371.txt', 372: 'file372.txt', 373: 'file373.txt', 374: 'file374.txt', 375: 'file375.txt', 376: 'file376.txt', 377: 'file377.txt', 378: 'file378.txt', 379: 'file379.txt', 380: 'file380.txt', 381: 'file381.txt', 382: 'file382.txt', 383: 'file383.txt', 384: 'file384.txt', 385: 'file385.txt', 386: 'file386.txt', 387: 'file387.txt', 388: 'file388.txt', 389: 'file389.txt', 390: 'file390.txt', 391: 'file391.txt', 392: 'file392.txt', 393: 'file393.txt', 394: 'file394.txt', 395: 'file395.txt', 396: 'file396.txt', 397: 'file397.txt', 398: 'file398.txt', 399: 'file399.txt', 400: 'file400.txt', 401: 'file401.txt', 402: 'file402.txt', 403: 'file403.txt', 404: 'file404.txt', 405: 'file405.txt', 406: 'file406.txt', 407: 'file407.txt', 408: 'file408.txt', 409: 'file409.txt', 410: 'file410.txt', 411: 'file411.txt', 412: 'file412.txt', 413: 'file413.txt', 414: 'file414.txt', 415: 'file415.txt', 416: 'file416.txt', 417: 'file417.txt', 418: 'file418.txt', 419: 'file419.txt', 420: 'file420.txt', 421: 'file421.txt', 422: 'file422.txt', 423: 'file423.txt', 424: 'file424.txt', 425: 'file425.txt', 426: 'file426.txt', 427: 'file427.txt', 428: 'file428.txt', 429: 'file429.txt', 430: 'file430.txt', 431: 'file431.txt', 432: 'file432.txt', 433: 'file433.txt', 434: 'file434.txt', 435: 'file435.txt', 436: 'file436.txt', 437: 'file437.txt', 438: 'file438.txt', 439: 'file439.txt', 440: 'file440.txt', 441: 'file441.txt', 442: 'file442.txt', 443: 'file443.txt', 444: 'file444.txt', 445: 'file445.txt', 446: 'file446.txt', 447: 'file447.txt', 448: 'file448.txt', 449: 'file449.txt', 450: 'file450.txt', 451: 'file451.txt', 452: 'file452.txt', 453: 'file453.txt', 454: 'file454.txt', 455: 'file455.txt', 456: 'file456.txt', 457: 'file457.txt', 458: 'file458.txt', 459: 'file459.txt', 460: 'file460.txt', 461: 'file461.txt', 462: 'file462.txt', 463: 'file463.txt', 464: 'file464.txt', 465: 'file465.txt', 466: 'file466.txt', 467: 'file467.txt', 468: 'file468.txt', 469: 'file469.txt', 470: 'file470.txt', 471: 'file471.txt', 472: 'file472.txt', 473: 'file473.txt', 474: 'file474.txt', 475: 'file475.txt', 476: 'file476.txt', 477: 'file477.txt', 478: 'file478.txt', 479: 'file479.txt', 480: 'file480.txt', 481: 'file481.txt', 482: 'file482.txt', 483: 'file483.txt', 484: 'file484.txt', 485: 'file485.txt', 486: 'file486.txt', 487: 'file487.txt', 488: 'file488.txt', 489: 'file489.txt', 490: 'file490.txt', 491: 'file491.txt', 492: 'file492.txt', 493: 'file493.txt', 494: 'file494.txt', 495: 'file495.txt', 496: 'file496.txt', 497: 'file497.txt', 498: 'file498.txt', 499: 'file499.txt', 500: 'file500.txt', 501: 'file501.txt', 502: 'file502.txt', 503: 'file503.txt', 504: 'file504.txt', 505: 'file505.txt', 506: 'file506.txt', 507: 'file507.txt', 508: 'file508.txt', 509: 'file509.txt', 510: 'file510.txt', 511: 'file511.txt', 512: 'file512.txt', 513: 'file513.txt', 514: 'file514.txt', 515: 'file515.txt', 516: 'file516.txt', 517: 'file517.txt', 518: 'file518.txt', 519: 'file519.txt', 520: 'file520.txt', 521: 'file521.txt', 522: 'file522.txt', 523: 'file523.txt', 524: 'file524.txt', 525: 'file525.txt', 526: 'file526.txt', 527: 'file527.txt', 528: 'file528.txt', 529: 'file529.txt', 530: 'file530.txt', 531: 'file531.txt', 532: 'file532.txt', 533: 'file533.txt', 534: 'file534.txt', 535: 'file535.txt', 536: 'file536.txt', 537: 'file537.txt', 538: 'file538.txt', 539: 'file539.txt', 540: 'file540.txt', 541: 'file541.txt', 542: 'file542.txt', 543: 'file543.txt', 544: 'file544.txt', 545: 'file545.txt', 546: 'file546.txt', 547: 'file547.txt', 548: 'file548.txt', 549: 'file549.txt', 550: 'file550.txt', 551: 'file551.txt', 552: 'file552.txt', 553: 'file553.txt', 554: 'file554.txt', 555: 'file555.txt', 556: 'file556.txt', 557: 'file557.txt', 558: 'file558.txt', 559: 'file559.txt', 560: 'file560.txt', 561: 'file561.txt', 562: 'file562.txt', 563: 'file563.txt', 564: 'file564.txt', 565: 'file565.txt', 566: 'file566.txt', 567: 'file567.txt', 568: 'file568.txt', 569: 'file569.txt', 570: 'file570.txt', 571: 'file571.txt', 572: 'file572.txt', 573: 'file573.txt', 574: 'file574.txt', 575: 'file575.txt', 576: 'file576.txt', 577: 'file577.txt', 578: 'file578.txt', 579: 'file579.txt', 580: 'file580.txt', 581: 'file581.txt', 582: 'file582.txt', 583: 'file583.txt', 584: 'file584.txt', 585: 'file585.txt', 586: 'file586.txt', 587: 'file587.txt', 588: 'file588.txt', 589: 'file589.txt', 590: 'file590.txt', 591: 'file591.txt', 592: 'file592.txt', 593: 'file593.txt', 594: 'file594.txt', 595: 'file595.txt', 596: 'file596.txt', 597: 'file597.txt', 598: 'file598.txt', 599: 'file599.txt', 600: 'file600.txt', 601: 'file601.txt', 602: 'file602.txt', 603: 'file603.txt', 604: 'file604.txt', 605: 'file605.txt', 606: 'file606.txt', 607: 'file607.txt', 608: 'file608.txt', 609: 'file609.txt', 610: 'file610.txt', 611: 'file611.txt', 612: 'file612.txt', 613: 'file613.txt', 614: 'file614.txt', 615: 'file615.txt', 616: 'file616.txt', 617: 'file617.txt', 618: 'file618.txt', 619: 'file619.txt', 620: 'file620.txt', 621: 'file621.txt', 622: 'file622.txt', 623: 'file623.txt', 624: 'file624.txt', 625: 'file625.txt', 626: 'file626.txt', 627: 'file627.txt', 628: 'file628.txt', 629: 'file629.txt', 630: 'file630.txt', 631: 'file631.txt', 632: 'file632.txt', 633: 'file633.txt', 634: 'file634.txt', 635: 'file635.txt', 636: 'file636.txt', 637: 'file637.txt', 638: 'file638.txt', 639: 'file639.txt', 640: 'file640.txt', 641: 'file641.txt', 642: 'file642.txt', 643: 'file643.txt', 644: 'file644.txt', 645: 'file645.txt', 646: 'file646.txt', 647: 'file647.txt', 648: 'file648.txt', 649: 'file649.txt', 650: 'file650.txt', 651: 'file651.txt', 652: 'file652.txt', 653: 'file653.txt', 654: 'file654.txt', 655: 'file655.txt', 656: 'file656.txt', 657: 'file657.txt', 658: 'file658.txt', 659: 'file659.txt', 660: 'file660.txt', 661: 'file661.txt', 662: 'file662.txt', 663: 'file663.txt', 664: 'file664.txt', 665: 'file665.txt', 666: 'file666.txt', 667: 'file667.txt', 668: 'file668.txt', 669: 'file669.txt', 670: 'file670.txt', 671: 'file671.txt', 672: 'file672.txt', 673: 'file673.txt', 674: 'file674.txt', 675: 'file675.txt', 676: 'file676.txt', 677: 'file677.txt', 678: 'file678.txt', 679: 'file679.txt', 680: 'file680.txt', 681: 'file681.txt', 682: 'file682.txt', 683: 'file683.txt', 684: 'file684.txt', 685: 'file685.txt', 686: 'file686.txt', 687: 'file687.txt', 688: 'file688.txt', 689: 'file689.txt', 690: 'file690.txt', 691: 'file691.txt', 692: 'file692.txt', 693: 'file693.txt', 694: 'file694.txt', 695: 'file695.txt', 696: 'file696.txt', 697: 'file697.txt', 698: 'file698.txt', 699: 'file699.txt', 700: 'file700.txt', 701: 'file701.txt', 702: 'file702.txt', 703: 'file703.txt', 704: 'file704.txt', 705: 'file705.txt', 706: 'file706.txt', 707: 'file707.txt', 708: 'file708.txt', 709: 'file709.txt', 710: 'file710.txt', 711: 'file711.txt', 712: 'file712.txt', 713: 'file713.txt', 714: 'file714.txt', 715: 'file715.txt', 716: 'file716.txt', 717: 'file717.txt', 718: 'file718.txt', 719: 'file719.txt', 720: 'file720.txt', 721: 'file721.txt', 722: 'file722.txt', 723: 'file723.txt', 724: 'file724.txt', 725: 'file725.txt', 726: 'file726.txt', 727: 'file727.txt', 728: 'file728.txt', 729: 'file729.txt', 730: 'file730.txt', 731: 'file731.txt', 732: 'file732.txt', 733: 'file733.txt', 734: 'file734.txt', 735: 'file735.txt', 736: 'file736.txt', 737: 'file737.txt', 738: 'file738.txt', 739: 'file739.txt', 740: 'file740.txt', 741: 'file741.txt', 742: 'file742.txt', 743: 'file743.txt', 744: 'file744.txt', 745: 'file745.txt', 746: 'file746.txt', 747: 'file747.txt', 748: 'file748.txt', 749: 'file749.txt', 750: 'file750.txt', 751: 'file751.txt', 752: 'file752.txt', 753: 'file753.txt', 754: 'file754.txt', 755: 'file755.txt', 756: 'file756.txt', 757: 'file757.txt', 758: 'file758.txt', 759: 'file759.txt', 760: 'file760.txt', 761: 'file761.txt', 762: 'file762.txt', 763: 'file763.txt', 764: 'file764.txt', 765: 'file765.txt', 766: 'file766.txt', 767: 'file767.txt', 768: 'file768.txt', 769: 'file769.txt', 770: 'file770.txt', 771: 'file771.txt', 772: 'file772.txt', 773: 'file773.txt', 774: 'file774.txt', 775: 'file775.txt', 776: 'file776.txt', 777: 'file777.txt', 778: 'file778.txt', 779: 'file779.txt', 780: 'file780.txt', 781: 'file781.txt', 782: 'file782.txt', 783: 'file783.txt', 784: 'file784.txt', 785: 'file785.txt', 786: 'file786.txt', 787: 'file787.txt', 788: 'file788.txt', 789: 'file789.txt', 790: 'file790.txt', 791: 'file791.txt', 792: 'file792.txt', 793: 'file793.txt', 794: 'file794.txt', 795: 'file795.txt', 796: 'file796.txt', 797: 'file797.txt', 798: 'file798.txt', 799: 'file799.txt', 800: 'file800.txt', 801: 'file801.txt', 802: 'file802.txt', 803: 'file803.txt', 804: 'file804.txt', 805: 'file805.txt', 806: 'file806.txt', 807: 'file807.txt', 808: 'file808.txt', 809: 'file809.txt', 810: 'file810.txt', 811: 'file811.txt', 812: 'file812.txt', 813: 'file813.txt', 814: 'file814.txt', 815: 'file815.txt', 816: 'file816.txt', 817: 'file817.txt', 818: 'file818.txt', 819: 'file819.txt', 820: 'file820.txt', 821: 'file821.txt', 822: 'file822.txt', 823: 'file823.txt', 824: 'file824.txt', 825: 'file825.txt', 826: 'file826.txt', 827: 'file827.txt', 828: 'file828.txt', 829: 'file829.txt', 830: 'file830.txt', 831: 'file831.txt', 832: 'file832.txt', 833: 'file833.txt', 834: 'file834.txt', 835: 'file835.txt', 836: 'file836.txt', 837: 'file837.txt', 838: 'file838.txt', 839: 'file839.txt', 840: 'file840.txt', 841: 'file841.txt', 842: 'file842.txt', 843: 'file843.txt', 844: 'file844.txt', 845: 'file845.txt', 846: 'file846.txt', 847: 'file847.txt', 848: 'file848.txt', 849: 'file849.txt', 850: 'file850.txt', 851: 'file851.txt', 852: 'file852.txt', 853: 'file853.txt', 854: 'file854.txt', 855: 'file855.txt', 856: 'file856.txt', 857: 'file857.txt', 858: 'file858.txt', 859: 'file859.txt', 860: 'file860.txt', 861: 'file861.txt', 862: 'file862.txt', 863: 'file863.txt', 864: 'file864.txt', 865: 'file865.txt', 866: 'file866.txt', 867: 'file867.txt', 868: 'file868.txt', 869: 'file869.txt', 870: 'file870.txt', 871: 'file871.txt', 872: 'file872.txt', 873: 'file873.txt', 874: 'file874.txt', 875: 'file875.txt', 876: 'file876.txt', 877: 'file877.txt', 878: 'file878.txt', 879: 'file879.txt', 880: 'file880.txt', 881: 'file881.txt', 882: 'file882.txt', 883: 'file883.txt', 884: 'file884.txt', 885: 'file885.txt', 886: 'file886.txt', 887: 'file887.txt', 888: 'file888.txt', 889: 'file889.txt', 890: 'file890.txt', 891: 'file891.txt', 892: 'file892.txt', 893: 'file893.txt', 894: 'file894.txt', 895: 'file895.txt', 896: 'file896.txt', 897: 'file897.txt', 898: 'file898.txt', 899: 'file899.txt', 900: 'file900.txt', 901: 'file901.txt', 902: 'file902.txt', 903: 'file903.txt', 904: 'file904.txt', 905: 'file905.txt', 906: 'file906.txt', 907: 'file907.txt', 908: 'file908.txt', 909: 'file909.txt', 910: 'file910.txt', 911: 'file911.txt', 912: 'file912.txt', 913: 'file913.txt', 914: 'file914.txt', 915: 'file915.txt', 916: 'file916.txt', 917: 'file917.txt', 918: 'file918.txt', 919: 'file919.txt', 920: 'file920.txt', 921: 'file921.txt', 922: 'file922.txt', 923: 'file923.txt', 924: 'file924.txt', 925: 'file925.txt', 926: 'file926.txt', 927: 'file927.txt', 928: 'file928.txt', 929: 'file929.txt', 930: 'file930.txt', 931: 'file931.txt', 932: 'file932.txt', 933: 'file933.txt', 934: 'file934.txt', 935: 'file935.txt', 936: 'file936.txt', 937: 'file937.txt', 938: 'file938.txt', 939: 'file939.txt', 940: 'file940.txt', 941: 'file941.txt', 942: 'file942.txt', 943: 'file943.txt', 944: 'file944.txt', 945: 'file945.txt', 946: 'file946.txt', 947: 'file947.txt', 948: 'file948.txt', 949: 'file949.txt', 950: 'file950.txt', 951: 'file951.txt', 952: 'file952.txt', 953: 'file953.txt', 954: 'file954.txt', 955: 'file955.txt', 956: 'file956.txt', 957: 'file957.txt', 958: 'file958.txt', 959: 'file959.txt', 960: 'file960.txt', 961: 'file961.txt', 962: 'file962.txt', 963: 'file963.txt', 964: 'file964.txt', 965: 'file965.txt', 966: 'file966.txt', 967: 'file967.txt', 968: 'file968.txt', 969: 'file969.txt', 970: 'file970.txt', 971: 'file971.txt', 972: 'file972.txt', 973: 'file973.txt', 974: 'file974.txt', 975: 'file975.txt', 976: 'file976.txt', 977: 'file977.txt', 978: 'file978.txt', 979: 'file979.txt', 980: 'file980.txt', 981: 'file981.txt', 982: 'file982.txt', 983: 'file983.txt', 984: 'file984.txt', 985: 'file985.txt', 986: 'file986.txt', 987: 'file987.txt', 988: 'file988.txt', 989: 'file989.txt', 990: 'file990.txt', 991: 'file991.txt', 992: 'file992.txt', 993: 'file993.txt', 994: 'file994.txt', 995: 'file995.txt', 996: 'file996.txt', 997: 'file997.txt', 998: 'file998.txt', 999: 'file999.txt'}\n",
            "['file396.txt', 'file464.txt', 'file576.txt', 'file910.txt', 'file940.txt']\n"
          ]
        }
      ],
      "source": [
        "import os\n",
        "import shutil\n",
        "import random\n",
        "import re\n",
        "\n",
        "from google.colab import drive\n",
        "drive.mount('/content/drive')\n",
        "\n",
        "folder = '/content/drive/My Drive/text_files'\n",
        "original_folder = '/content/original_files'\n",
        "\n",
        "try:\n",
        "    shutil.rmtree(original_folder)\n",
        "except FileNotFoundError:\n",
        "    pass\n",
        "shutil.copytree(folder, original_folder)\n",
        "os.chdir(original_folder)\n",
        "files = os.listdir(original_folder)\n",
        "\n",
        "def natural_sort_key(s):\n",
        "    return [int(text) if text.isdigit() else text.lower() for text in re.split(r'(\\d+)', s)]\n",
        "files = sorted(files, key=natural_sort_key)\n",
        "count = len(files)\n",
        "\n",
        "doc_ids = {}\n",
        "for i in range(1,count+1):\n",
        "    doc_ids[i] = files[i-1]\n",
        "print(doc_ids)\n",
        "\n",
        "random_files = random.sample(files, 5)\n",
        "random_files = sorted(random_files, key=natural_sort_key)\n",
        "print(random_files)\n",
        "\n",
        "preprocessed_folder = '/content/preprocessed_files'\n",
        "try:\n",
        "    shutil.rmtree(preprocessed_folder)\n",
        "except FileNotFoundError:\n",
        "    pass\n",
        "os.makedirs(\"/content/preprocessed_files\")\n",
        "for i in range(1, count+1):\n",
        "    file = f\"file{i}.txt\"\n",
        "    path = os.path.join(preprocessed_folder, file)\n",
        "    with open(path, 'w') as file:\n",
        "        pass\n",
        "\n",
        "tokenized_folder = '/content/tokenized_files'\n",
        "try:\n",
        "    shutil.rmtree(tokenized_folder)\n",
        "except FileNotFoundError:\n",
        "    pass\n",
        "os.makedirs(\"/content/tokenized_files\")\n",
        "for i in range(1, count+1):\n",
        "    file = f\"file{i}.txt\"\n",
        "    path = os.path.join(tokenized_folder, file)\n",
        "    with open(path, 'w') as file:\n",
        "        pass"
      ]
    },
    {
      "cell_type": "markdown",
      "source": [
        "LOWERCASE"
      ],
      "metadata": {
        "id": "yTYmxvbFF5p8"
      }
    },
    {
      "cell_type": "code",
      "source": [
        "import pandas as pd\n",
        "\n",
        "print(\"Before preprocessing:\\n\")\n",
        "\n",
        "for i in files:\n",
        "    path = os.path.join(original_folder, i)\n",
        "    with open(path, 'r') as file:\n",
        "        content = file.read()\n",
        "        if i in random_files:\n",
        "            print(i, \" :\")\n",
        "            print(content, end=\"\\n\\n\")\n",
        "        content = content.lower()\n",
        "\n",
        "    path = os.path.join(preprocessed_folder, i)\n",
        "    with open(path, 'w') as file:\n",
        "        file.write(content)\n",
        "\n",
        "print(\"----------------------------------------------------------------\")\n",
        "print(\"After preprocessing:\\n\")\n",
        "\n",
        "for i in random_files:\n",
        "    path = os.path.join(preprocessed_folder, i)\n",
        "    with open(path, 'r') as file:\n",
        "        content = file.read()\n",
        "        print(i, \" :\")\n",
        "        print(content, end=\"\\n\\n\")\n"
      ],
      "metadata": {
        "colab": {
          "base_uri": "https://localhost:8080/"
        },
        "id": "jXqUB9JTgHPj",
        "outputId": "6b699012-6ac1-494a-96c0-94f6d523dc2c"
      },
      "execution_count": 2,
      "outputs": [
        {
          "output_type": "stream",
          "name": "stdout",
          "text": [
            "Before preprocessing:\n",
            "\n",
            "file396.txt  :\n",
            "This pickup has a great, traditional, single coil strat sound. I'm really pleased with the sweet clear tone this delivers. You can make it scream with your amp setting if that's what you want. It's really great looking, too! I had no issues at all with the soldering connections, and the volume and tone pots work well as does the jack. I used this on a cigar box guitar build, and I love the tone! This homemade CBG sounds like a legitimate strat. I would definitely use this pickup again in the future, and I have no doubt it would sound good to swap out the pups on a cheapo commercial strat with these. My only complaint, and it's a small one, is that the knobs included had a tiny bit of smearing on the gold paint. It's not a big deal because many pups don't include knobs at all, and there are so many knob options available at very affordable prices. I actually used the knobs anyway, so I'm not going to knock a star off for that. The tone and looks of the pickup are fantastic at this price!\n",
            "\n",
            "file464.txt  :\n",
            "Very happy with this baritone ukulele. I have been wanting to try one since I also play guitar. There was a little buzzing but raising the bridge a tiny bit solved the problem. Also upgraded the tuners just because I had some nice silver ones on hand. .  The sound on this uke is wonderful. Can't go wrong with this beauty.\n",
            ".\n",
            "\n",
            "file576.txt  :\n",
            "At first I hesitated because $30 seemed a lot for a mic stand but I decided to just keep the order. It came in about 4 days immediately and I set it up. Wow the quality is amazing. It extends pretty high and far. I was worried at first it would be too small but it soon proved me wrong. There are no flaws. I will definitely order another one soon for my second mic. This product was great and there's a reason this was rated 5 Stars. Great for home studio budgets. Highly recommend!\n",
            "\n",
            "file910.txt  :\n",
            "On the day these picks arrived I went to a gig and put one in my pocket while I set up my gear.  Maybe twenty minutes later, I took the pick out of my pocket and found it had already shed the cork \"grip\".\n",
            "The following day I played with another of these picks for no more than 90 minutes.  At that point, the cork \"grip\" had already peeled off of the pick.\n",
            "Obviously, whatever adhesive the manufacturer is using is crap.\n",
            "Once the \"grip\" is gone, what you have left is a plain celluloid pick very much like those that Fender sells.  My advice is, don't waste your time and money on these things.  Buy the Fender picks and be done with it.\n",
            "\n",
            "file940.txt  :\n",
            "Nice tuners.  Installed on a strat neck and they are working great. Nice and smooth and has stayed in tune very well. Nothing wrong with these.\n",
            "\n",
            "----------------------------------------------------------------\n",
            "After preprocessing:\n",
            "\n",
            "file396.txt  :\n",
            "this pickup has a great, traditional, single coil strat sound. i'm really pleased with the sweet clear tone this delivers. you can make it scream with your amp setting if that's what you want. it's really great looking, too! i had no issues at all with the soldering connections, and the volume and tone pots work well as does the jack. i used this on a cigar box guitar build, and i love the tone! this homemade cbg sounds like a legitimate strat. i would definitely use this pickup again in the future, and i have no doubt it would sound good to swap out the pups on a cheapo commercial strat with these. my only complaint, and it's a small one, is that the knobs included had a tiny bit of smearing on the gold paint. it's not a big deal because many pups don't include knobs at all, and there are so many knob options available at very affordable prices. i actually used the knobs anyway, so i'm not going to knock a star off for that. the tone and looks of the pickup are fantastic at this price!\n",
            "\n",
            "file464.txt  :\n",
            "very happy with this baritone ukulele. i have been wanting to try one since i also play guitar. there was a little buzzing but raising the bridge a tiny bit solved the problem. also upgraded the tuners just because i had some nice silver ones on hand. .  the sound on this uke is wonderful. can't go wrong with this beauty.\n",
            ".\n",
            "\n",
            "file576.txt  :\n",
            "at first i hesitated because $30 seemed a lot for a mic stand but i decided to just keep the order. it came in about 4 days immediately and i set it up. wow the quality is amazing. it extends pretty high and far. i was worried at first it would be too small but it soon proved me wrong. there are no flaws. i will definitely order another one soon for my second mic. this product was great and there's a reason this was rated 5 stars. great for home studio budgets. highly recommend!\n",
            "\n",
            "file910.txt  :\n",
            "on the day these picks arrived i went to a gig and put one in my pocket while i set up my gear.  maybe twenty minutes later, i took the pick out of my pocket and found it had already shed the cork \"grip\".\n",
            "the following day i played with another of these picks for no more than 90 minutes.  at that point, the cork \"grip\" had already peeled off of the pick.\n",
            "obviously, whatever adhesive the manufacturer is using is crap.\n",
            "once the \"grip\" is gone, what you have left is a plain celluloid pick very much like those that fender sells.  my advice is, don't waste your time and money on these things.  buy the fender picks and be done with it.\n",
            "\n",
            "file940.txt  :\n",
            "nice tuners.  installed on a strat neck and they are working great. nice and smooth and has stayed in tune very well. nothing wrong with these.\n",
            "\n"
          ]
        }
      ]
    },
    {
      "cell_type": "markdown",
      "source": [
        "TOKENIZATION"
      ],
      "metadata": {
        "id": "UHRbNEL0F-C0"
      }
    },
    {
      "cell_type": "code",
      "source": [
        "import nltk\n",
        "nltk.download('punkt')\n",
        "from nltk.tokenize import word_tokenize\n",
        "\n",
        "print(\"Before preprocessing:\\n\")\n",
        "\n",
        "for i in files:\n",
        "    path = os.path.join(preprocessed_folder, i)\n",
        "    with open(path, 'r') as file:\n",
        "        content = file.read()\n",
        "        if i in random_files:\n",
        "            print(i, \" :\")\n",
        "            print(content, end=\"\\n\\n\")\n",
        "        tokens = word_tokenize(content)\n",
        "\n",
        "    with open(path, 'w') as file:\n",
        "        file.write(str(tokens))\n",
        "\n",
        "    path = os.path.join(tokenized_folder, i)\n",
        "    with open(path, 'w') as file:\n",
        "        file.write(str(tokens))\n",
        "\n",
        "print(\"----------------------------------------------------------------\")\n",
        "print(\"After preprocessing:\\n\")\n",
        "\n",
        "for i in random_files:\n",
        "    path = os.path.join(preprocessed_folder, i)\n",
        "    with open(path, 'r') as file:\n",
        "        content = file.read()\n",
        "        print(i, \" :\")\n",
        "        print(content, end=\"\\n\\n\")\n"
      ],
      "metadata": {
        "colab": {
          "base_uri": "https://localhost:8080/"
        },
        "id": "_EOvoBx6yMbA",
        "outputId": "e2bd6967-ef13-47fe-8bb1-4e13d0fe9f63"
      },
      "execution_count": 3,
      "outputs": [
        {
          "output_type": "stream",
          "name": "stderr",
          "text": [
            "[nltk_data] Downloading package punkt to /root/nltk_data...\n",
            "[nltk_data]   Unzipping tokenizers/punkt.zip.\n"
          ]
        },
        {
          "output_type": "stream",
          "name": "stdout",
          "text": [
            "Before preprocessing:\n",
            "\n",
            "file396.txt  :\n",
            "this pickup has a great, traditional, single coil strat sound. i'm really pleased with the sweet clear tone this delivers. you can make it scream with your amp setting if that's what you want. it's really great looking, too! i had no issues at all with the soldering connections, and the volume and tone pots work well as does the jack. i used this on a cigar box guitar build, and i love the tone! this homemade cbg sounds like a legitimate strat. i would definitely use this pickup again in the future, and i have no doubt it would sound good to swap out the pups on a cheapo commercial strat with these. my only complaint, and it's a small one, is that the knobs included had a tiny bit of smearing on the gold paint. it's not a big deal because many pups don't include knobs at all, and there are so many knob options available at very affordable prices. i actually used the knobs anyway, so i'm not going to knock a star off for that. the tone and looks of the pickup are fantastic at this price!\n",
            "\n",
            "file464.txt  :\n",
            "very happy with this baritone ukulele. i have been wanting to try one since i also play guitar. there was a little buzzing but raising the bridge a tiny bit solved the problem. also upgraded the tuners just because i had some nice silver ones on hand. .  the sound on this uke is wonderful. can't go wrong with this beauty.\n",
            ".\n",
            "\n",
            "file576.txt  :\n",
            "at first i hesitated because $30 seemed a lot for a mic stand but i decided to just keep the order. it came in about 4 days immediately and i set it up. wow the quality is amazing. it extends pretty high and far. i was worried at first it would be too small but it soon proved me wrong. there are no flaws. i will definitely order another one soon for my second mic. this product was great and there's a reason this was rated 5 stars. great for home studio budgets. highly recommend!\n",
            "\n",
            "file910.txt  :\n",
            "on the day these picks arrived i went to a gig and put one in my pocket while i set up my gear.  maybe twenty minutes later, i took the pick out of my pocket and found it had already shed the cork \"grip\".\n",
            "the following day i played with another of these picks for no more than 90 minutes.  at that point, the cork \"grip\" had already peeled off of the pick.\n",
            "obviously, whatever adhesive the manufacturer is using is crap.\n",
            "once the \"grip\" is gone, what you have left is a plain celluloid pick very much like those that fender sells.  my advice is, don't waste your time and money on these things.  buy the fender picks and be done with it.\n",
            "\n",
            "file940.txt  :\n",
            "nice tuners.  installed on a strat neck and they are working great. nice and smooth and has stayed in tune very well. nothing wrong with these.\n",
            "\n",
            "----------------------------------------------------------------\n",
            "After preprocessing:\n",
            "\n",
            "file396.txt  :\n",
            "['this', 'pickup', 'has', 'a', 'great', ',', 'traditional', ',', 'single', 'coil', 'strat', 'sound', '.', 'i', \"'m\", 'really', 'pleased', 'with', 'the', 'sweet', 'clear', 'tone', 'this', 'delivers', '.', 'you', 'can', 'make', 'it', 'scream', 'with', 'your', 'amp', 'setting', 'if', 'that', \"'s\", 'what', 'you', 'want', '.', 'it', \"'s\", 'really', 'great', 'looking', ',', 'too', '!', 'i', 'had', 'no', 'issues', 'at', 'all', 'with', 'the', 'soldering', 'connections', ',', 'and', 'the', 'volume', 'and', 'tone', 'pots', 'work', 'well', 'as', 'does', 'the', 'jack', '.', 'i', 'used', 'this', 'on', 'a', 'cigar', 'box', 'guitar', 'build', ',', 'and', 'i', 'love', 'the', 'tone', '!', 'this', 'homemade', 'cbg', 'sounds', 'like', 'a', 'legitimate', 'strat', '.', 'i', 'would', 'definitely', 'use', 'this', 'pickup', 'again', 'in', 'the', 'future', ',', 'and', 'i', 'have', 'no', 'doubt', 'it', 'would', 'sound', 'good', 'to', 'swap', 'out', 'the', 'pups', 'on', 'a', 'cheapo', 'commercial', 'strat', 'with', 'these', '.', 'my', 'only', 'complaint', ',', 'and', 'it', \"'s\", 'a', 'small', 'one', ',', 'is', 'that', 'the', 'knobs', 'included', 'had', 'a', 'tiny', 'bit', 'of', 'smearing', 'on', 'the', 'gold', 'paint', '.', 'it', \"'s\", 'not', 'a', 'big', 'deal', 'because', 'many', 'pups', 'do', \"n't\", 'include', 'knobs', 'at', 'all', ',', 'and', 'there', 'are', 'so', 'many', 'knob', 'options', 'available', 'at', 'very', 'affordable', 'prices', '.', 'i', 'actually', 'used', 'the', 'knobs', 'anyway', ',', 'so', 'i', \"'m\", 'not', 'going', 'to', 'knock', 'a', 'star', 'off', 'for', 'that', '.', 'the', 'tone', 'and', 'looks', 'of', 'the', 'pickup', 'are', 'fantastic', 'at', 'this', 'price', '!']\n",
            "\n",
            "file464.txt  :\n",
            "['very', 'happy', 'with', 'this', 'baritone', 'ukulele', '.', 'i', 'have', 'been', 'wanting', 'to', 'try', 'one', 'since', 'i', 'also', 'play', 'guitar', '.', 'there', 'was', 'a', 'little', 'buzzing', 'but', 'raising', 'the', 'bridge', 'a', 'tiny', 'bit', 'solved', 'the', 'problem', '.', 'also', 'upgraded', 'the', 'tuners', 'just', 'because', 'i', 'had', 'some', 'nice', 'silver', 'ones', 'on', 'hand', '.', '.', 'the', 'sound', 'on', 'this', 'uke', 'is', 'wonderful', '.', 'ca', \"n't\", 'go', 'wrong', 'with', 'this', 'beauty', '.', '.']\n",
            "\n",
            "file576.txt  :\n",
            "['at', 'first', 'i', 'hesitated', 'because', '$', '30', 'seemed', 'a', 'lot', 'for', 'a', 'mic', 'stand', 'but', 'i', 'decided', 'to', 'just', 'keep', 'the', 'order', '.', 'it', 'came', 'in', 'about', '4', 'days', 'immediately', 'and', 'i', 'set', 'it', 'up', '.', 'wow', 'the', 'quality', 'is', 'amazing', '.', 'it', 'extends', 'pretty', 'high', 'and', 'far', '.', 'i', 'was', 'worried', 'at', 'first', 'it', 'would', 'be', 'too', 'small', 'but', 'it', 'soon', 'proved', 'me', 'wrong', '.', 'there', 'are', 'no', 'flaws', '.', 'i', 'will', 'definitely', 'order', 'another', 'one', 'soon', 'for', 'my', 'second', 'mic', '.', 'this', 'product', 'was', 'great', 'and', 'there', \"'s\", 'a', 'reason', 'this', 'was', 'rated', '5', 'stars', '.', 'great', 'for', 'home', 'studio', 'budgets', '.', 'highly', 'recommend', '!']\n",
            "\n",
            "file910.txt  :\n",
            "['on', 'the', 'day', 'these', 'picks', 'arrived', 'i', 'went', 'to', 'a', 'gig', 'and', 'put', 'one', 'in', 'my', 'pocket', 'while', 'i', 'set', 'up', 'my', 'gear', '.', 'maybe', 'twenty', 'minutes', 'later', ',', 'i', 'took', 'the', 'pick', 'out', 'of', 'my', 'pocket', 'and', 'found', 'it', 'had', 'already', 'shed', 'the', 'cork', '``', 'grip', \"''\", '.', 'the', 'following', 'day', 'i', 'played', 'with', 'another', 'of', 'these', 'picks', 'for', 'no', 'more', 'than', '90', 'minutes', '.', 'at', 'that', 'point', ',', 'the', 'cork', '``', 'grip', \"''\", 'had', 'already', 'peeled', 'off', 'of', 'the', 'pick', '.', 'obviously', ',', 'whatever', 'adhesive', 'the', 'manufacturer', 'is', 'using', 'is', 'crap', '.', 'once', 'the', '``', 'grip', \"''\", 'is', 'gone', ',', 'what', 'you', 'have', 'left', 'is', 'a', 'plain', 'celluloid', 'pick', 'very', 'much', 'like', 'those', 'that', 'fender', 'sells', '.', 'my', 'advice', 'is', ',', 'do', \"n't\", 'waste', 'your', 'time', 'and', 'money', 'on', 'these', 'things', '.', 'buy', 'the', 'fender', 'picks', 'and', 'be', 'done', 'with', 'it', '.']\n",
            "\n",
            "file940.txt  :\n",
            "['nice', 'tuners', '.', 'installed', 'on', 'a', 'strat', 'neck', 'and', 'they', 'are', 'working', 'great', '.', 'nice', 'and', 'smooth', 'and', 'has', 'stayed', 'in', 'tune', 'very', 'well', '.', 'nothing', 'wrong', 'with', 'these', '.']\n",
            "\n"
          ]
        }
      ]
    },
    {
      "cell_type": "markdown",
      "source": [
        "STOPWORDS"
      ],
      "metadata": {
        "id": "B6H2Y8RfGCmx"
      }
    },
    {
      "cell_type": "code",
      "source": [
        "from nltk.corpus import stopwords\n",
        "import ast\n",
        "nltk.download('stopwords')\n",
        "stop_words = set(stopwords.words('english'))\n",
        "\n",
        "print(\"Before preprocessing:\\n\")\n",
        "\n",
        "for i in files:\n",
        "    path = os.path.join(preprocessed_folder, i)\n",
        "    with open(path, 'r') as file:\n",
        "        content = file.read()\n",
        "        if i in random_files:\n",
        "            print(i, \" :\")\n",
        "            print(content, end=\"\\n\\n\")\n",
        "        tokens = ast.literal_eval(content)\n",
        "        filtered = [j for j in tokens if j.lower() not in stop_words]\n",
        "\n",
        "    with open(path, 'w') as file:\n",
        "        file.write(str(filtered))\n",
        "\n",
        "print(\"----------------------------------------------------------------\")\n",
        "print(\"After preprocessing:\\n\")\n",
        "\n",
        "for i in random_files:\n",
        "    path = os.path.join(preprocessed_folder, i)\n",
        "    with open(path, 'r') as file:\n",
        "        content = file.read()\n",
        "        print(i, \" :\")\n",
        "        print(content, end=\"\\n\\n\")\n"
      ],
      "metadata": {
        "colab": {
          "base_uri": "https://localhost:8080/"
        },
        "id": "_VNcDgwX2nXz",
        "outputId": "be57a6f6-7893-4b39-e662-2f7018b8c62f"
      },
      "execution_count": 4,
      "outputs": [
        {
          "output_type": "stream",
          "name": "stdout",
          "text": [
            "Before preprocessing:\n",
            "\n"
          ]
        },
        {
          "output_type": "stream",
          "name": "stderr",
          "text": [
            "[nltk_data] Downloading package stopwords to /root/nltk_data...\n",
            "[nltk_data]   Unzipping corpora/stopwords.zip.\n"
          ]
        },
        {
          "output_type": "stream",
          "name": "stdout",
          "text": [
            "file396.txt  :\n",
            "['this', 'pickup', 'has', 'a', 'great', ',', 'traditional', ',', 'single', 'coil', 'strat', 'sound', '.', 'i', \"'m\", 'really', 'pleased', 'with', 'the', 'sweet', 'clear', 'tone', 'this', 'delivers', '.', 'you', 'can', 'make', 'it', 'scream', 'with', 'your', 'amp', 'setting', 'if', 'that', \"'s\", 'what', 'you', 'want', '.', 'it', \"'s\", 'really', 'great', 'looking', ',', 'too', '!', 'i', 'had', 'no', 'issues', 'at', 'all', 'with', 'the', 'soldering', 'connections', ',', 'and', 'the', 'volume', 'and', 'tone', 'pots', 'work', 'well', 'as', 'does', 'the', 'jack', '.', 'i', 'used', 'this', 'on', 'a', 'cigar', 'box', 'guitar', 'build', ',', 'and', 'i', 'love', 'the', 'tone', '!', 'this', 'homemade', 'cbg', 'sounds', 'like', 'a', 'legitimate', 'strat', '.', 'i', 'would', 'definitely', 'use', 'this', 'pickup', 'again', 'in', 'the', 'future', ',', 'and', 'i', 'have', 'no', 'doubt', 'it', 'would', 'sound', 'good', 'to', 'swap', 'out', 'the', 'pups', 'on', 'a', 'cheapo', 'commercial', 'strat', 'with', 'these', '.', 'my', 'only', 'complaint', ',', 'and', 'it', \"'s\", 'a', 'small', 'one', ',', 'is', 'that', 'the', 'knobs', 'included', 'had', 'a', 'tiny', 'bit', 'of', 'smearing', 'on', 'the', 'gold', 'paint', '.', 'it', \"'s\", 'not', 'a', 'big', 'deal', 'because', 'many', 'pups', 'do', \"n't\", 'include', 'knobs', 'at', 'all', ',', 'and', 'there', 'are', 'so', 'many', 'knob', 'options', 'available', 'at', 'very', 'affordable', 'prices', '.', 'i', 'actually', 'used', 'the', 'knobs', 'anyway', ',', 'so', 'i', \"'m\", 'not', 'going', 'to', 'knock', 'a', 'star', 'off', 'for', 'that', '.', 'the', 'tone', 'and', 'looks', 'of', 'the', 'pickup', 'are', 'fantastic', 'at', 'this', 'price', '!']\n",
            "\n",
            "file464.txt  :\n",
            "['very', 'happy', 'with', 'this', 'baritone', 'ukulele', '.', 'i', 'have', 'been', 'wanting', 'to', 'try', 'one', 'since', 'i', 'also', 'play', 'guitar', '.', 'there', 'was', 'a', 'little', 'buzzing', 'but', 'raising', 'the', 'bridge', 'a', 'tiny', 'bit', 'solved', 'the', 'problem', '.', 'also', 'upgraded', 'the', 'tuners', 'just', 'because', 'i', 'had', 'some', 'nice', 'silver', 'ones', 'on', 'hand', '.', '.', 'the', 'sound', 'on', 'this', 'uke', 'is', 'wonderful', '.', 'ca', \"n't\", 'go', 'wrong', 'with', 'this', 'beauty', '.', '.']\n",
            "\n",
            "file576.txt  :\n",
            "['at', 'first', 'i', 'hesitated', 'because', '$', '30', 'seemed', 'a', 'lot', 'for', 'a', 'mic', 'stand', 'but', 'i', 'decided', 'to', 'just', 'keep', 'the', 'order', '.', 'it', 'came', 'in', 'about', '4', 'days', 'immediately', 'and', 'i', 'set', 'it', 'up', '.', 'wow', 'the', 'quality', 'is', 'amazing', '.', 'it', 'extends', 'pretty', 'high', 'and', 'far', '.', 'i', 'was', 'worried', 'at', 'first', 'it', 'would', 'be', 'too', 'small', 'but', 'it', 'soon', 'proved', 'me', 'wrong', '.', 'there', 'are', 'no', 'flaws', '.', 'i', 'will', 'definitely', 'order', 'another', 'one', 'soon', 'for', 'my', 'second', 'mic', '.', 'this', 'product', 'was', 'great', 'and', 'there', \"'s\", 'a', 'reason', 'this', 'was', 'rated', '5', 'stars', '.', 'great', 'for', 'home', 'studio', 'budgets', '.', 'highly', 'recommend', '!']\n",
            "\n",
            "file910.txt  :\n",
            "['on', 'the', 'day', 'these', 'picks', 'arrived', 'i', 'went', 'to', 'a', 'gig', 'and', 'put', 'one', 'in', 'my', 'pocket', 'while', 'i', 'set', 'up', 'my', 'gear', '.', 'maybe', 'twenty', 'minutes', 'later', ',', 'i', 'took', 'the', 'pick', 'out', 'of', 'my', 'pocket', 'and', 'found', 'it', 'had', 'already', 'shed', 'the', 'cork', '``', 'grip', \"''\", '.', 'the', 'following', 'day', 'i', 'played', 'with', 'another', 'of', 'these', 'picks', 'for', 'no', 'more', 'than', '90', 'minutes', '.', 'at', 'that', 'point', ',', 'the', 'cork', '``', 'grip', \"''\", 'had', 'already', 'peeled', 'off', 'of', 'the', 'pick', '.', 'obviously', ',', 'whatever', 'adhesive', 'the', 'manufacturer', 'is', 'using', 'is', 'crap', '.', 'once', 'the', '``', 'grip', \"''\", 'is', 'gone', ',', 'what', 'you', 'have', 'left', 'is', 'a', 'plain', 'celluloid', 'pick', 'very', 'much', 'like', 'those', 'that', 'fender', 'sells', '.', 'my', 'advice', 'is', ',', 'do', \"n't\", 'waste', 'your', 'time', 'and', 'money', 'on', 'these', 'things', '.', 'buy', 'the', 'fender', 'picks', 'and', 'be', 'done', 'with', 'it', '.']\n",
            "\n",
            "file940.txt  :\n",
            "['nice', 'tuners', '.', 'installed', 'on', 'a', 'strat', 'neck', 'and', 'they', 'are', 'working', 'great', '.', 'nice', 'and', 'smooth', 'and', 'has', 'stayed', 'in', 'tune', 'very', 'well', '.', 'nothing', 'wrong', 'with', 'these', '.']\n",
            "\n",
            "----------------------------------------------------------------\n",
            "After preprocessing:\n",
            "\n",
            "file396.txt  :\n",
            "['pickup', 'great', ',', 'traditional', ',', 'single', 'coil', 'strat', 'sound', '.', \"'m\", 'really', 'pleased', 'sweet', 'clear', 'tone', 'delivers', '.', 'make', 'scream', 'amp', 'setting', \"'s\", 'want', '.', \"'s\", 'really', 'great', 'looking', ',', '!', 'issues', 'soldering', 'connections', ',', 'volume', 'tone', 'pots', 'work', 'well', 'jack', '.', 'used', 'cigar', 'box', 'guitar', 'build', ',', 'love', 'tone', '!', 'homemade', 'cbg', 'sounds', 'like', 'legitimate', 'strat', '.', 'would', 'definitely', 'use', 'pickup', 'future', ',', 'doubt', 'would', 'sound', 'good', 'swap', 'pups', 'cheapo', 'commercial', 'strat', '.', 'complaint', ',', \"'s\", 'small', 'one', ',', 'knobs', 'included', 'tiny', 'bit', 'smearing', 'gold', 'paint', '.', \"'s\", 'big', 'deal', 'many', 'pups', \"n't\", 'include', 'knobs', ',', 'many', 'knob', 'options', 'available', 'affordable', 'prices', '.', 'actually', 'used', 'knobs', 'anyway', ',', \"'m\", 'going', 'knock', 'star', '.', 'tone', 'looks', 'pickup', 'fantastic', 'price', '!']\n",
            "\n",
            "file464.txt  :\n",
            "['happy', 'baritone', 'ukulele', '.', 'wanting', 'try', 'one', 'since', 'also', 'play', 'guitar', '.', 'little', 'buzzing', 'raising', 'bridge', 'tiny', 'bit', 'solved', 'problem', '.', 'also', 'upgraded', 'tuners', 'nice', 'silver', 'ones', 'hand', '.', '.', 'sound', 'uke', 'wonderful', '.', 'ca', \"n't\", 'go', 'wrong', 'beauty', '.', '.']\n",
            "\n",
            "file576.txt  :\n",
            "['first', 'hesitated', '$', '30', 'seemed', 'lot', 'mic', 'stand', 'decided', 'keep', 'order', '.', 'came', '4', 'days', 'immediately', 'set', '.', 'wow', 'quality', 'amazing', '.', 'extends', 'pretty', 'high', 'far', '.', 'worried', 'first', 'would', 'small', 'soon', 'proved', 'wrong', '.', 'flaws', '.', 'definitely', 'order', 'another', 'one', 'soon', 'second', 'mic', '.', 'product', 'great', \"'s\", 'reason', 'rated', '5', 'stars', '.', 'great', 'home', 'studio', 'budgets', '.', 'highly', 'recommend', '!']\n",
            "\n",
            "file910.txt  :\n",
            "['day', 'picks', 'arrived', 'went', 'gig', 'put', 'one', 'pocket', 'set', 'gear', '.', 'maybe', 'twenty', 'minutes', 'later', ',', 'took', 'pick', 'pocket', 'found', 'already', 'shed', 'cork', '``', 'grip', \"''\", '.', 'following', 'day', 'played', 'another', 'picks', '90', 'minutes', '.', 'point', ',', 'cork', '``', 'grip', \"''\", 'already', 'peeled', 'pick', '.', 'obviously', ',', 'whatever', 'adhesive', 'manufacturer', 'using', 'crap', '.', '``', 'grip', \"''\", 'gone', ',', 'left', 'plain', 'celluloid', 'pick', 'much', 'like', 'fender', 'sells', '.', 'advice', ',', \"n't\", 'waste', 'time', 'money', 'things', '.', 'buy', 'fender', 'picks', 'done', '.']\n",
            "\n",
            "file940.txt  :\n",
            "['nice', 'tuners', '.', 'installed', 'strat', 'neck', 'working', 'great', '.', 'nice', 'smooth', 'stayed', 'tune', 'well', '.', 'nothing', 'wrong', '.']\n",
            "\n"
          ]
        }
      ]
    },
    {
      "cell_type": "markdown",
      "source": [
        "PUNCTUATIONS"
      ],
      "metadata": {
        "id": "5mHdY6ghGFL1"
      }
    },
    {
      "cell_type": "code",
      "source": [
        "import string\n",
        "punctuations = set(string.punctuation)\n",
        "\n",
        "print(\"Before preprocessing:\\n\")\n",
        "\n",
        "for i in files:\n",
        "    path = os.path.join(preprocessed_folder, i)\n",
        "    with open(path, 'r') as file:\n",
        "        content = file.read()\n",
        "        if i in random_files:\n",
        "            print(i, \" :\")\n",
        "            print(content, end=\"\\n\\n\")\n",
        "        tokens = ast.literal_eval(content)\n",
        "        filtered = [j for j in tokens if j.lower() not in punctuations]\n",
        "        # print(content)\n",
        "\n",
        "    with open(path, 'w') as file:\n",
        "        file.write(str(filtered))\n",
        "\n",
        "print(\"----------------------------------------------------------------\")\n",
        "print(\"After preprocessing:\\n\")\n",
        "\n",
        "for i in random_files:\n",
        "    path = os.path.join(preprocessed_folder, i)\n",
        "    with open(path, 'r') as file:\n",
        "        content = file.read()\n",
        "        print(i, \" :\")\n",
        "        print(content, end=\"\\n\\n\")\n"
      ],
      "metadata": {
        "id": "GxlpZMO36cBd",
        "colab": {
          "base_uri": "https://localhost:8080/"
        },
        "outputId": "c305eabc-5ba3-4f8c-f88f-17616c5184d5"
      },
      "execution_count": 5,
      "outputs": [
        {
          "output_type": "stream",
          "name": "stdout",
          "text": [
            "Before preprocessing:\n",
            "\n",
            "file396.txt  :\n",
            "['pickup', 'great', ',', 'traditional', ',', 'single', 'coil', 'strat', 'sound', '.', \"'m\", 'really', 'pleased', 'sweet', 'clear', 'tone', 'delivers', '.', 'make', 'scream', 'amp', 'setting', \"'s\", 'want', '.', \"'s\", 'really', 'great', 'looking', ',', '!', 'issues', 'soldering', 'connections', ',', 'volume', 'tone', 'pots', 'work', 'well', 'jack', '.', 'used', 'cigar', 'box', 'guitar', 'build', ',', 'love', 'tone', '!', 'homemade', 'cbg', 'sounds', 'like', 'legitimate', 'strat', '.', 'would', 'definitely', 'use', 'pickup', 'future', ',', 'doubt', 'would', 'sound', 'good', 'swap', 'pups', 'cheapo', 'commercial', 'strat', '.', 'complaint', ',', \"'s\", 'small', 'one', ',', 'knobs', 'included', 'tiny', 'bit', 'smearing', 'gold', 'paint', '.', \"'s\", 'big', 'deal', 'many', 'pups', \"n't\", 'include', 'knobs', ',', 'many', 'knob', 'options', 'available', 'affordable', 'prices', '.', 'actually', 'used', 'knobs', 'anyway', ',', \"'m\", 'going', 'knock', 'star', '.', 'tone', 'looks', 'pickup', 'fantastic', 'price', '!']\n",
            "\n",
            "file464.txt  :\n",
            "['happy', 'baritone', 'ukulele', '.', 'wanting', 'try', 'one', 'since', 'also', 'play', 'guitar', '.', 'little', 'buzzing', 'raising', 'bridge', 'tiny', 'bit', 'solved', 'problem', '.', 'also', 'upgraded', 'tuners', 'nice', 'silver', 'ones', 'hand', '.', '.', 'sound', 'uke', 'wonderful', '.', 'ca', \"n't\", 'go', 'wrong', 'beauty', '.', '.']\n",
            "\n",
            "file576.txt  :\n",
            "['first', 'hesitated', '$', '30', 'seemed', 'lot', 'mic', 'stand', 'decided', 'keep', 'order', '.', 'came', '4', 'days', 'immediately', 'set', '.', 'wow', 'quality', 'amazing', '.', 'extends', 'pretty', 'high', 'far', '.', 'worried', 'first', 'would', 'small', 'soon', 'proved', 'wrong', '.', 'flaws', '.', 'definitely', 'order', 'another', 'one', 'soon', 'second', 'mic', '.', 'product', 'great', \"'s\", 'reason', 'rated', '5', 'stars', '.', 'great', 'home', 'studio', 'budgets', '.', 'highly', 'recommend', '!']\n",
            "\n",
            "file910.txt  :\n",
            "['day', 'picks', 'arrived', 'went', 'gig', 'put', 'one', 'pocket', 'set', 'gear', '.', 'maybe', 'twenty', 'minutes', 'later', ',', 'took', 'pick', 'pocket', 'found', 'already', 'shed', 'cork', '``', 'grip', \"''\", '.', 'following', 'day', 'played', 'another', 'picks', '90', 'minutes', '.', 'point', ',', 'cork', '``', 'grip', \"''\", 'already', 'peeled', 'pick', '.', 'obviously', ',', 'whatever', 'adhesive', 'manufacturer', 'using', 'crap', '.', '``', 'grip', \"''\", 'gone', ',', 'left', 'plain', 'celluloid', 'pick', 'much', 'like', 'fender', 'sells', '.', 'advice', ',', \"n't\", 'waste', 'time', 'money', 'things', '.', 'buy', 'fender', 'picks', 'done', '.']\n",
            "\n",
            "file940.txt  :\n",
            "['nice', 'tuners', '.', 'installed', 'strat', 'neck', 'working', 'great', '.', 'nice', 'smooth', 'stayed', 'tune', 'well', '.', 'nothing', 'wrong', '.']\n",
            "\n",
            "----------------------------------------------------------------\n",
            "After preprocessing:\n",
            "\n",
            "file396.txt  :\n",
            "['pickup', 'great', 'traditional', 'single', 'coil', 'strat', 'sound', \"'m\", 'really', 'pleased', 'sweet', 'clear', 'tone', 'delivers', 'make', 'scream', 'amp', 'setting', \"'s\", 'want', \"'s\", 'really', 'great', 'looking', 'issues', 'soldering', 'connections', 'volume', 'tone', 'pots', 'work', 'well', 'jack', 'used', 'cigar', 'box', 'guitar', 'build', 'love', 'tone', 'homemade', 'cbg', 'sounds', 'like', 'legitimate', 'strat', 'would', 'definitely', 'use', 'pickup', 'future', 'doubt', 'would', 'sound', 'good', 'swap', 'pups', 'cheapo', 'commercial', 'strat', 'complaint', \"'s\", 'small', 'one', 'knobs', 'included', 'tiny', 'bit', 'smearing', 'gold', 'paint', \"'s\", 'big', 'deal', 'many', 'pups', \"n't\", 'include', 'knobs', 'many', 'knob', 'options', 'available', 'affordable', 'prices', 'actually', 'used', 'knobs', 'anyway', \"'m\", 'going', 'knock', 'star', 'tone', 'looks', 'pickup', 'fantastic', 'price']\n",
            "\n",
            "file464.txt  :\n",
            "['happy', 'baritone', 'ukulele', 'wanting', 'try', 'one', 'since', 'also', 'play', 'guitar', 'little', 'buzzing', 'raising', 'bridge', 'tiny', 'bit', 'solved', 'problem', 'also', 'upgraded', 'tuners', 'nice', 'silver', 'ones', 'hand', 'sound', 'uke', 'wonderful', 'ca', \"n't\", 'go', 'wrong', 'beauty']\n",
            "\n",
            "file576.txt  :\n",
            "['first', 'hesitated', '30', 'seemed', 'lot', 'mic', 'stand', 'decided', 'keep', 'order', 'came', '4', 'days', 'immediately', 'set', 'wow', 'quality', 'amazing', 'extends', 'pretty', 'high', 'far', 'worried', 'first', 'would', 'small', 'soon', 'proved', 'wrong', 'flaws', 'definitely', 'order', 'another', 'one', 'soon', 'second', 'mic', 'product', 'great', \"'s\", 'reason', 'rated', '5', 'stars', 'great', 'home', 'studio', 'budgets', 'highly', 'recommend']\n",
            "\n",
            "file910.txt  :\n",
            "['day', 'picks', 'arrived', 'went', 'gig', 'put', 'one', 'pocket', 'set', 'gear', 'maybe', 'twenty', 'minutes', 'later', 'took', 'pick', 'pocket', 'found', 'already', 'shed', 'cork', '``', 'grip', \"''\", 'following', 'day', 'played', 'another', 'picks', '90', 'minutes', 'point', 'cork', '``', 'grip', \"''\", 'already', 'peeled', 'pick', 'obviously', 'whatever', 'adhesive', 'manufacturer', 'using', 'crap', '``', 'grip', \"''\", 'gone', 'left', 'plain', 'celluloid', 'pick', 'much', 'like', 'fender', 'sells', 'advice', \"n't\", 'waste', 'time', 'money', 'things', 'buy', 'fender', 'picks', 'done']\n",
            "\n",
            "file940.txt  :\n",
            "['nice', 'tuners', 'installed', 'strat', 'neck', 'working', 'great', 'nice', 'smooth', 'stayed', 'tune', 'well', 'nothing', 'wrong']\n",
            "\n"
          ]
        }
      ]
    },
    {
      "cell_type": "markdown",
      "source": [
        "BLANK SPACE"
      ],
      "metadata": {
        "id": "7zleCCE8GJyD"
      }
    },
    {
      "cell_type": "code",
      "source": [
        "print(\"Before preprocessing:\\n\")\n",
        "\n",
        "for i in files:\n",
        "    path = os.path.join(preprocessed_folder, i)\n",
        "    with open(path, 'r') as file:\n",
        "        content = file.read()\n",
        "        if i in random_files:\n",
        "            print(i, \" :\")\n",
        "            print(content, end=\"\\n\\n\")\n",
        "        tokens = ast.literal_eval(content)\n",
        "        filtered = [j for j in tokens if j.lower().strip()]\n",
        "        # print(content)\n",
        "\n",
        "    with open(path, 'w') as file:\n",
        "        file.write(str(filtered))\n",
        "\n",
        "print(\"----------------------------------------------------------------\")\n",
        "print(\"After preprocessing:\\n\")\n",
        "\n",
        "for i in random_files:\n",
        "    path = os.path.join(preprocessed_folder, i)\n",
        "    with open(path, 'r') as file:\n",
        "        content = file.read()\n",
        "        print(i, \" :\")\n",
        "        print(content, end=\"\\n\\n\")\n"
      ],
      "metadata": {
        "id": "APcz9IBY7IXY",
        "colab": {
          "base_uri": "https://localhost:8080/"
        },
        "outputId": "1191853c-0a59-4e18-8af7-8fc5057359a2"
      },
      "execution_count": 6,
      "outputs": [
        {
          "output_type": "stream",
          "name": "stdout",
          "text": [
            "Before preprocessing:\n",
            "\n",
            "file396.txt  :\n",
            "['pickup', 'great', 'traditional', 'single', 'coil', 'strat', 'sound', \"'m\", 'really', 'pleased', 'sweet', 'clear', 'tone', 'delivers', 'make', 'scream', 'amp', 'setting', \"'s\", 'want', \"'s\", 'really', 'great', 'looking', 'issues', 'soldering', 'connections', 'volume', 'tone', 'pots', 'work', 'well', 'jack', 'used', 'cigar', 'box', 'guitar', 'build', 'love', 'tone', 'homemade', 'cbg', 'sounds', 'like', 'legitimate', 'strat', 'would', 'definitely', 'use', 'pickup', 'future', 'doubt', 'would', 'sound', 'good', 'swap', 'pups', 'cheapo', 'commercial', 'strat', 'complaint', \"'s\", 'small', 'one', 'knobs', 'included', 'tiny', 'bit', 'smearing', 'gold', 'paint', \"'s\", 'big', 'deal', 'many', 'pups', \"n't\", 'include', 'knobs', 'many', 'knob', 'options', 'available', 'affordable', 'prices', 'actually', 'used', 'knobs', 'anyway', \"'m\", 'going', 'knock', 'star', 'tone', 'looks', 'pickup', 'fantastic', 'price']\n",
            "\n",
            "file464.txt  :\n",
            "['happy', 'baritone', 'ukulele', 'wanting', 'try', 'one', 'since', 'also', 'play', 'guitar', 'little', 'buzzing', 'raising', 'bridge', 'tiny', 'bit', 'solved', 'problem', 'also', 'upgraded', 'tuners', 'nice', 'silver', 'ones', 'hand', 'sound', 'uke', 'wonderful', 'ca', \"n't\", 'go', 'wrong', 'beauty']\n",
            "\n",
            "file576.txt  :\n",
            "['first', 'hesitated', '30', 'seemed', 'lot', 'mic', 'stand', 'decided', 'keep', 'order', 'came', '4', 'days', 'immediately', 'set', 'wow', 'quality', 'amazing', 'extends', 'pretty', 'high', 'far', 'worried', 'first', 'would', 'small', 'soon', 'proved', 'wrong', 'flaws', 'definitely', 'order', 'another', 'one', 'soon', 'second', 'mic', 'product', 'great', \"'s\", 'reason', 'rated', '5', 'stars', 'great', 'home', 'studio', 'budgets', 'highly', 'recommend']\n",
            "\n",
            "file910.txt  :\n",
            "['day', 'picks', 'arrived', 'went', 'gig', 'put', 'one', 'pocket', 'set', 'gear', 'maybe', 'twenty', 'minutes', 'later', 'took', 'pick', 'pocket', 'found', 'already', 'shed', 'cork', '``', 'grip', \"''\", 'following', 'day', 'played', 'another', 'picks', '90', 'minutes', 'point', 'cork', '``', 'grip', \"''\", 'already', 'peeled', 'pick', 'obviously', 'whatever', 'adhesive', 'manufacturer', 'using', 'crap', '``', 'grip', \"''\", 'gone', 'left', 'plain', 'celluloid', 'pick', 'much', 'like', 'fender', 'sells', 'advice', \"n't\", 'waste', 'time', 'money', 'things', 'buy', 'fender', 'picks', 'done']\n",
            "\n",
            "file940.txt  :\n",
            "['nice', 'tuners', 'installed', 'strat', 'neck', 'working', 'great', 'nice', 'smooth', 'stayed', 'tune', 'well', 'nothing', 'wrong']\n",
            "\n",
            "----------------------------------------------------------------\n",
            "After preprocessing:\n",
            "\n",
            "file396.txt  :\n",
            "['pickup', 'great', 'traditional', 'single', 'coil', 'strat', 'sound', \"'m\", 'really', 'pleased', 'sweet', 'clear', 'tone', 'delivers', 'make', 'scream', 'amp', 'setting', \"'s\", 'want', \"'s\", 'really', 'great', 'looking', 'issues', 'soldering', 'connections', 'volume', 'tone', 'pots', 'work', 'well', 'jack', 'used', 'cigar', 'box', 'guitar', 'build', 'love', 'tone', 'homemade', 'cbg', 'sounds', 'like', 'legitimate', 'strat', 'would', 'definitely', 'use', 'pickup', 'future', 'doubt', 'would', 'sound', 'good', 'swap', 'pups', 'cheapo', 'commercial', 'strat', 'complaint', \"'s\", 'small', 'one', 'knobs', 'included', 'tiny', 'bit', 'smearing', 'gold', 'paint', \"'s\", 'big', 'deal', 'many', 'pups', \"n't\", 'include', 'knobs', 'many', 'knob', 'options', 'available', 'affordable', 'prices', 'actually', 'used', 'knobs', 'anyway', \"'m\", 'going', 'knock', 'star', 'tone', 'looks', 'pickup', 'fantastic', 'price']\n",
            "\n",
            "file464.txt  :\n",
            "['happy', 'baritone', 'ukulele', 'wanting', 'try', 'one', 'since', 'also', 'play', 'guitar', 'little', 'buzzing', 'raising', 'bridge', 'tiny', 'bit', 'solved', 'problem', 'also', 'upgraded', 'tuners', 'nice', 'silver', 'ones', 'hand', 'sound', 'uke', 'wonderful', 'ca', \"n't\", 'go', 'wrong', 'beauty']\n",
            "\n",
            "file576.txt  :\n",
            "['first', 'hesitated', '30', 'seemed', 'lot', 'mic', 'stand', 'decided', 'keep', 'order', 'came', '4', 'days', 'immediately', 'set', 'wow', 'quality', 'amazing', 'extends', 'pretty', 'high', 'far', 'worried', 'first', 'would', 'small', 'soon', 'proved', 'wrong', 'flaws', 'definitely', 'order', 'another', 'one', 'soon', 'second', 'mic', 'product', 'great', \"'s\", 'reason', 'rated', '5', 'stars', 'great', 'home', 'studio', 'budgets', 'highly', 'recommend']\n",
            "\n",
            "file910.txt  :\n",
            "['day', 'picks', 'arrived', 'went', 'gig', 'put', 'one', 'pocket', 'set', 'gear', 'maybe', 'twenty', 'minutes', 'later', 'took', 'pick', 'pocket', 'found', 'already', 'shed', 'cork', '``', 'grip', \"''\", 'following', 'day', 'played', 'another', 'picks', '90', 'minutes', 'point', 'cork', '``', 'grip', \"''\", 'already', 'peeled', 'pick', 'obviously', 'whatever', 'adhesive', 'manufacturer', 'using', 'crap', '``', 'grip', \"''\", 'gone', 'left', 'plain', 'celluloid', 'pick', 'much', 'like', 'fender', 'sells', 'advice', \"n't\", 'waste', 'time', 'money', 'things', 'buy', 'fender', 'picks', 'done']\n",
            "\n",
            "file940.txt  :\n",
            "['nice', 'tuners', 'installed', 'strat', 'neck', 'working', 'great', 'nice', 'smooth', 'stayed', 'tune', 'well', 'nothing', 'wrong']\n",
            "\n"
          ]
        }
      ]
    }
  ]
}